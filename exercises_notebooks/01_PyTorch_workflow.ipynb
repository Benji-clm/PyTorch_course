{
  "nbformat": 4,
  "nbformat_minor": 0,
  "metadata": {
    "colab": {
      "provenance": [],
      "toc_visible": true,
      "gpuType": "T4",
      "mount_file_id": "1SYcqj9jywSpV3klyZazl7yUnyuK2C4CW",
      "authorship_tag": "ABX9TyMfD9xgiDqG9pCGUMfGBFJ1"
    },
    "kernelspec": {
      "name": "python3",
      "display_name": "Python 3"
    },
    "language_info": {
      "name": "python"
    },
    "accelerator": "GPU"
  },
  "cells": [
    {
      "cell_type": "markdown",
      "source": [
        "# PyTorch Workflow\n",
        "\n",
        "Let's explore an example PyTorch end-to-end workflow.\n",
        "\n",
        "Resources:\n",
        "* Group truth notebook - https://www.learnpytorch.io/01_pytorch_workflow/"
      ],
      "metadata": {
        "id": "jFAGrfbhzhpi"
      }
    },
    {
      "cell_type": "code",
      "source": [
        "what_were_covering = {1: \"data (prepare and load)\",\n",
        "                      2: \"build model\",\n",
        "                      3: \"fitting the model to data (training)\",\n",
        "                      4: \"making predictions and evaluate a model (inference)\",\n",
        "                      5: \"saving and loading a model\",\n",
        "                      6: \"putting it all together\"}\n",
        "\n",
        "what_were_covering"
      ],
      "metadata": {
        "colab": {
          "base_uri": "https://localhost:8080/"
        },
        "id": "SplnE9c41EaF",
        "outputId": "80cfd262-e630-45b5-8cd1-54a5de3f80fb"
      },
      "execution_count": 103,
      "outputs": [
        {
          "output_type": "execute_result",
          "data": {
            "text/plain": [
              "{1: 'data (prepare and load)',\n",
              " 2: 'build model',\n",
              " 3: 'fitting the model to data (training)',\n",
              " 4: 'making predictions and evaluate a model (inference)',\n",
              " 5: 'saving and loading a model',\n",
              " 6: 'putting it all together'}"
            ]
          },
          "metadata": {},
          "execution_count": 103
        }
      ]
    },
    {
      "cell_type": "code",
      "source": [
        "import torch\n",
        "from torch import nn # nn contains all of PyTorch's building blocks for Neural Netowrks\n",
        "import matplotlib.pyplot as plt\n",
        "\n",
        "# Check PyTorch version\n",
        "torch.__version__, torch.cuda.is_available()"
      ],
      "metadata": {
        "colab": {
          "base_uri": "https://localhost:8080/"
        },
        "id": "ueq0PX5Q1sfb",
        "outputId": "7f2352df-c08a-4412-e3b9-89dd6e8eb4b7"
      },
      "execution_count": 104,
      "outputs": [
        {
          "output_type": "execute_result",
          "data": {
            "text/plain": [
              "('2.6.0+cu124', True)"
            ]
          },
          "metadata": {},
          "execution_count": 104
        }
      ]
    },
    {
      "cell_type": "markdown",
      "source": [
        "## 1. Data (preparing and loading)\n",
        "\n",
        "Data can be almost anything in ML.\n",
        "\n",
        "* Excel spreadsheet\n",
        "* Images of any kind\n",
        "* Videos\n",
        "* Audio\n",
        "* DNA\n",
        "* Text\n",
        "\n",
        "Machine Learning is a game of two parts:\n",
        "1. Get data into a numerical representation.\n",
        "2. Build a model to learn patterns within that numerical representation\n",
        "\n",
        "To showcase this, let's create some *known* data using the linear regression formula.\n",
        "\n",
        "We'll use a linear regression formula to make a straight line with *known* **parameters**."
      ],
      "metadata": {
        "id": "hIzcYvh62LnJ"
      }
    },
    {
      "cell_type": "code",
      "source": [
        "# Create *known* parameters\n",
        "weight = 0.7\n",
        "bias = 0.3\n",
        "\n",
        "# Create some data\n",
        "start = 0\n",
        "end = 1\n",
        "step = 0.02\n",
        "\n",
        "X = torch.arange(start, end, step).unsqueeze(dim=1)# X will be a tensor hence capital\n",
        "y = weight*X + bias\n",
        "\n",
        "X[:10], y[:10]"
      ],
      "metadata": {
        "colab": {
          "base_uri": "https://localhost:8080/"
        },
        "id": "ox2GNsI82lwh",
        "outputId": "d715cf10-5e2d-40b5-c0ff-644ec431b3a6"
      },
      "execution_count": 105,
      "outputs": [
        {
          "output_type": "execute_result",
          "data": {
            "text/plain": [
              "(tensor([[0.0000],\n",
              "         [0.0200],\n",
              "         [0.0400],\n",
              "         [0.0600],\n",
              "         [0.0800],\n",
              "         [0.1000],\n",
              "         [0.1200],\n",
              "         [0.1400],\n",
              "         [0.1600],\n",
              "         [0.1800]]),\n",
              " tensor([[0.3000],\n",
              "         [0.3140],\n",
              "         [0.3280],\n",
              "         [0.3420],\n",
              "         [0.3560],\n",
              "         [0.3700],\n",
              "         [0.3840],\n",
              "         [0.3980],\n",
              "         [0.4120],\n",
              "         [0.4260]]))"
            ]
          },
          "metadata": {},
          "execution_count": 105
        }
      ]
    },
    {
      "cell_type": "code",
      "source": [
        "len(X), len(y)"
      ],
      "metadata": {
        "colab": {
          "base_uri": "https://localhost:8080/"
        },
        "id": "8XGXT-hb3-mG",
        "outputId": "2fda04c8-709e-452c-f878-ac444b5d256d"
      },
      "execution_count": 106,
      "outputs": [
        {
          "output_type": "execute_result",
          "data": {
            "text/plain": [
              "(50, 50)"
            ]
          },
          "metadata": {},
          "execution_count": 106
        }
      ]
    },
    {
      "cell_type": "markdown",
      "source": [
        "### Splitting data into training and test sets (one of the most important concepts in machine learning in general)\n",
        "\n",
        "Three datasets:\n",
        "1. Training set\n",
        "2. Validation set - used to fine tune the model\n",
        "3. Test set - see if model is ready -> Generalization\n",
        "\n",
        "> **Generalization** - The ability fro a machine learning model to perform well on data it hasn't seen before.\n",
        "\n",
        "Note that the model **should never see** the validation and test sets during training.\n",
        "\n",
        "<br>\n",
        "\n",
        "| Split | Purpose | Amount of total data | How often is it used? |\n",
        "| ----- | ----- | ----- | ----- |\n",
        "| **Training set** | The model learns from this data (like the course materials you study during the semester). | ~60-80% | Always |\n",
        "| **Validation set** | The model gets tuned on this data (like the practice exam you take before the final exam). | ~10-20% | Often but not always |\n",
        "| **Testing set** | The model gets evaluated on this data to test what it has learned (like the final exam you take at the end of the semester). | ~10-20% | Always |\n",
        "\n",
        "\n",
        "<br>\n",
        "\n",
        "\n",
        "Let's create a training and test set with our data"
      ],
      "metadata": {
        "id": "UJRrRESq4NGf"
      }
    },
    {
      "cell_type": "code",
      "source": [
        "# Create a train/tesst split\n",
        "train_split = int(0.8 * len(X))\n",
        "X_train, y_train = X[:train_split], y[:train_split]\n",
        "X_test, y_test = X[train_split:], y[train_split:]\n",
        "\n",
        "len(X_train), len(y_train), len(X_test), len(y_test)"
      ],
      "metadata": {
        "colab": {
          "base_uri": "https://localhost:8080/"
        },
        "id": "eoWI4nOh5T0q",
        "outputId": "03cce9d9-f392-4f10-c8a9-185411836467"
      },
      "execution_count": 107,
      "outputs": [
        {
          "output_type": "execute_result",
          "data": {
            "text/plain": [
              "(40, 40, 10, 10)"
            ]
          },
          "metadata": {},
          "execution_count": 107
        }
      ]
    },
    {
      "cell_type": "markdown",
      "source": [
        "How might we better visualize our data?\n",
        "\n",
        "This is where the data explorer's motto comes in!\n",
        "\n",
        "\"Visualize, visualize, visualize!\""
      ],
      "metadata": {
        "id": "JmCaDUGt6hHh"
      }
    },
    {
      "cell_type": "code",
      "source": [
        "def plot_predictions(train_data=X_train,\n",
        "                     train_labels=y_train,\n",
        "                     test_data=X_test,\n",
        "                     test_labels=y_test,\n",
        "                     predictions=None):\n",
        "  \"\"\"\n",
        "  Plots training data, test data and compares predictions.\n",
        "  \"\"\"\n",
        "\n",
        "  plt.figure(figsize=(10,7))\n",
        "\n",
        "  # s is the size of the markers in matplot\n",
        "\n",
        "  # Plot training data in blue\n",
        "  plt.scatter(train_data, train_labels, c=\"b\", s=4, label=\"Training data\")\n",
        "\n",
        "  # Plot test data in green\n",
        "  plt.scatter(test_data, test_labels, c=\"g\", s=4, label=\"Testing data\")\n",
        "\n",
        "  # Are there predictions?\n",
        "  if predictions is not None:\n",
        "    # Plot if predictions exists\n",
        "    plt.scatter(test_data, predictions, c=\"r\", s=4, label=\"Predictions\")\n",
        "\n",
        "  # Show the legend\n",
        "  plt.legend(prop={\"size\": 14})"
      ],
      "metadata": {
        "id": "vezdFRus6vIx"
      },
      "execution_count": 108,
      "outputs": []
    },
    {
      "cell_type": "code",
      "source": [
        "plot_predictions()"
      ],
      "metadata": {
        "colab": {
          "base_uri": "https://localhost:8080/",
          "height": 599
        },
        "id": "u7d5TDLH72-b",
        "outputId": "4eb62fb0-e64f-43da-c85a-500457a192fd"
      },
      "execution_count": 109,
      "outputs": [
        {
          "output_type": "display_data",
          "data": {
            "text/plain": [
              "<Figure size 1000x700 with 1 Axes>"
            ],
            "image/png": "[encoded data removed]"
          },
          "metadata": {}
        }
      ]
    },
    {
      "cell_type": "markdown",
      "source": [
        "## 2. Buil model\n",
        "Our first Pytorch model.\n",
        "\n",
        "As this is simple linear regression, this model only needs 2 parameters.\n",
        "\n",
        "What our model does:\n",
        "* Start with random values (weight & bias)\n",
        "* Look at training data and adjust the random values to better reperesent  (or get closer to) the ideal values (the weight & bias values we used to create the data)\n",
        "\n",
        "It does so through two ain algorithms:\n",
        "1. Gradient descent\n",
        "2. Backpropagation"
      ],
      "metadata": {
        "id": "ib_zf_JD8lEB"
      }
    },
    {
      "cell_type": "code",
      "source": [
        "from torch import nn\n",
        "\n",
        "# Create linear regression model class\n",
        "\n",
        "class LinearRegressionModel(nn.Module): # <- almost everything in PyTorch inherits from nn.Module\n",
        "  def __init__(self):\n",
        "    super().__init__()\n",
        "    self.weights = nn.Parameter(torch.randn(1, requires_grad=True, dtype=torch.float32))\n",
        "\n",
        "    self.bias = nn.Parameter(torch.randn(1,\n",
        "                                         requires_grad=True,\n",
        "                                         dtype=torch.float32))\n",
        "\n",
        "    # Note here we defined our parameters (i.e. ML), but torch.nn has other modules that can create the parameters for us,\n",
        "    # we determine them during the training process (i.e. deep learning)\n",
        "\n",
        "  # Forward method to define the computation in the model\n",
        "  def forward(self, x: torch.Tensor) -> torch.Tensor:\n",
        "    return self.weights * x + self.bias # this is the linear regression formula"
      ],
      "metadata": {
        "id": "ovkcIdQ79lHq"
      },
      "execution_count": 110,
      "outputs": []
    },
    {
      "cell_type": "markdown",
      "source": [
        "### PyTorch model building essentials\n",
        "\n",
        "* `torch.nn` - contains all of the building blocks for computational graphs (a neural network can be considered a computational graph)\n",
        "* `torch.nn.Parameter` - what paratmeters should our model try and learn, often a PyTorch layer from `torch.nn` will set these for us.and\n",
        "* `torch.nn.Module` - The base class for all neural network modules, if you subclass it, you should overwrite forward()\n",
        "* `torch.optim`  this is where the optimizers in PyTorch live, they will help with gradient descent.\n",
        "* `def forward()` - All `nn.Module` subclassses require you to overwrite `forward()`, this method defines what happens in the forward computation."
      ],
      "metadata": {
        "id": "o4BbYiqx_HDJ"
      }
    },
    {
      "cell_type": "markdown",
      "source": [
        "### Checking the content of our PyTorch model\n",
        "\n",
        "Now we've created a model, let's see what's inside...\n",
        "\n",
        "So we can check our model parameters, or what's inside our modeul using `.parameters()`"
      ],
      "metadata": {
        "id": "F9BQdrQzECD_"
      }
    },
    {
      "cell_type": "code",
      "source": [
        "# Create a random seed\n",
        "torch.manual_seed(42)\n",
        "\n",
        "# Create an instance of the model we created (this is a subclass of nn.Module)\n",
        "model_0 = LinearRegressionModel()\n",
        "\n",
        "# Check out the parameters\n",
        "list(model_0.parameters())"
      ],
      "metadata": {
        "colab": {
          "base_uri": "https://localhost:8080/"
        },
        "id": "lioy-KVsGxnL",
        "outputId": "d8d147e8-8dfa-478c-9a79-3bfd7cafdc4c"
      },
      "execution_count": 111,
      "outputs": [
        {
          "output_type": "execute_result",
          "data": {
            "text/plain": [
              "[Parameter containing:\n",
              " tensor([0.3367], requires_grad=True),\n",
              " Parameter containing:\n",
              " tensor([0.1288], requires_grad=True)]"
            ]
          },
          "metadata": {},
          "execution_count": 111
        }
      ]
    },
    {
      "cell_type": "code",
      "source": [
        "# List named parameters\n",
        "model_0.state_dict() # gives the dictionary of our parameters of our model"
      ],
      "metadata": {
        "colab": {
          "base_uri": "https://localhost:8080/"
        },
        "id": "WFqPgkAuHAh0",
        "outputId": "cbcb80a8-6067-4c57-9b43-bb3b7fe4d0e6"
      },
      "execution_count": 112,
      "outputs": [
        {
          "output_type": "execute_result",
          "data": {
            "text/plain": [
              "OrderedDict([('weights', tensor([0.3367])), ('bias', tensor([0.1288]))])"
            ]
          },
          "metadata": {},
          "execution_count": 112
        }
      ]
    },
    {
      "cell_type": "markdown",
      "source": [
        "### Making predictions using `torch.inference_mode()`\n",
        "\n",
        "To check our model's predictive power, let's see how well it predicts `y_test` based on `X_test`.\n",
        "\n",
        "When we pass data through our model, it's going to run it through the `forward()` method."
      ],
      "metadata": {
        "id": "xj8stF1iIN0A"
      }
    },
    {
      "cell_type": "code",
      "source": [
        "# Make predictions with model\n",
        "with torch.inference_mode():\n",
        "  y_preds = model_0(X_test)\n",
        "\n",
        "y_preds, y_test\n",
        "\n",
        "# Using .inference_mode() is way faster than simply doing y_preds = model_0(X_test),\n",
        "# as it avoids keeping track of things such as gradients and other values/computations not needed for predictions"
      ],
      "metadata": {
        "colab": {
          "base_uri": "https://localhost:8080/"
        },
        "id": "bLbQmSQ5JPva",
        "outputId": "04b1244a-1ad8-4778-9123-d521a4e5debc"
      },
      "execution_count": 113,
      "outputs": [
        {
          "output_type": "execute_result",
          "data": {
            "text/plain": [
              "(tensor([[0.3982],\n",
              "         [0.4049],\n",
              "         [0.4116],\n",
              "         [0.4184],\n",
              "         [0.4251],\n",
              "         [0.4318],\n",
              "         [0.4386],\n",
              "         [0.4453],\n",
              "         [0.4520],\n",
              "         [0.4588]]),\n",
              " tensor([[0.8600],\n",
              "         [0.8740],\n",
              "         [0.8880],\n",
              "         [0.9020],\n",
              "         [0.9160],\n",
              "         [0.9300],\n",
              "         [0.9440],\n",
              "         [0.9580],\n",
              "         [0.9720],\n",
              "         [0.9860]]))"
            ]
          },
          "metadata": {},
          "execution_count": 113
        }
      ]
    },
    {
      "cell_type": "code",
      "source": [
        "plot_predictions(predictions=y_preds)"
      ],
      "metadata": {
        "colab": {
          "base_uri": "https://localhost:8080/",
          "height": 599
        },
        "id": "kGnO7qlCJWzF",
        "outputId": "5072a171-e47a-4cb2-80d0-5bd70d1f7d38"
      },
      "execution_count": 114,
      "outputs": [
        {
          "output_type": "display_data",
          "data": {
            "text/plain": [
              "<Figure size 1000x700 with 1 Axes>"
            ],
            "image/png": "[encoded data removed]"
          },
          "metadata": {}
        }
      ]
    },
    {
      "cell_type": "markdown",
      "source": [
        "## 3. Train model\n",
        "\n",
        "The whole idea of training is for a model to move from some *unknown* parameters (these may be random) to some *known* parameters.\n",
        "Or in other words from a poor representation of the data to a better representation of the data.\n",
        "\n",
        "One way to measure how poor or how wrong the model prediction is, is to use a loss function.\n",
        "\n",
        "* Note: Loss function may also be called cost function or criterion in different areas. For our case, we're going to refer to it as a loss function.\n",
        "\n",
        "Things we need to train:\n",
        "\n",
        "* **Losss function:** A function to measure how wrong your model's predictions are to the idea out up, lower is better.\n",
        "* **Optimizer:** Takes into account the loss of a model and adusts the model's parameters (e.g. weight & bias) to improve the loss function.\n",
        "\n",
        "And specifically for PytTorch, we need:\n",
        "* A training loop\n",
        "* A testing loop"
      ],
      "metadata": {
        "id": "0r8LvTa1J6aO"
      }
    },
    {
      "cell_type": "code",
      "source": [
        "# Setup a loss function\n",
        "loss_fn = nn.L1Loss()\n",
        "\n",
        "# Setup an optimizer (Stochastic Gradient Descent)\n",
        "optimizer = torch.optim.SGD(params=model_0.parameters(),\n",
        "                            lr=0.01# lr = learning rate = possibly the most important hyperparameter you can set\n",
        "                            )\n",
        "optimizer"
      ],
      "metadata": {
        "colab": {
          "base_uri": "https://localhost:8080/"
        },
        "id": "bVFoyyq0WIZe",
        "outputId": "ab044ea3-d1da-40bf-d245-da42c2665e5c"
      },
      "execution_count": 115,
      "outputs": [
        {
          "output_type": "execute_result",
          "data": {
            "text/plain": [
              "SGD (\n",
              "Parameter Group 0\n",
              "    dampening: 0\n",
              "    differentiable: False\n",
              "    foreach: None\n",
              "    fused: None\n",
              "    lr: 0.01\n",
              "    maximize: False\n",
              "    momentum: 0\n",
              "    nesterov: False\n",
              "    weight_decay: 0\n",
              ")"
            ]
          },
          "metadata": {},
          "execution_count": 115
        }
      ]
    },
    {
      "cell_type": "markdown",
      "source": [
        "### Building a training loop (and a testing loop) in PyTorch\n",
        "\n",
        "A couple of things we need in a training loop:\n",
        "0. Loop through the data\n",
        "1. Forwared pass (this involves data moving thorugh our model's `forward()` functions) to make predictions on data - also called forward propagation\n",
        "2. Calculate the loss (compare forward pass predictions to ground truth labels)\n",
        "3. Optimize zero grad\n",
        "4. Loss backward - move backward the network to calculate the gradients of the each of the parameters of our model with respect to the loss. (**backpropagation**)\n",
        "5. Optimizer step - use the optimizer to adjust our model's parameters to try and improve the loss (**gradient descent**)"
      ],
      "metadata": {
        "id": "eG711tkAXJZs"
      }
    },
    {
      "cell_type": "code",
      "source": [
        "# Create empty loss lists to track values\n",
        "train_loss_values = []\n",
        "test_loss_values = []\n",
        "epoch_count = []"
      ],
      "metadata": {
        "id": "IfSjHN8fEPNQ"
      },
      "execution_count": 116,
      "outputs": []
    },
    {
      "cell_type": "code",
      "source": [
        "from torch.optim.lr_scheduler import ReduceLROnPlateau\n",
        "\n",
        "scheduler = ReduceLROnPlateau(optimizer, mode='min', factor=0.5, patience=2)\n",
        "\n",
        "# An epoch is one loop through the data... (this is a hyperparameter because we've set it ourselves)\n",
        "epochs = 1000\n",
        "\n",
        "# 0 Loop through the data\n",
        "for epoch in range(epochs):\n",
        "  # Set the model to training mode\n",
        "  model_0.train() # train mode in PyTorch sets all parameters that require tracking gradients\n",
        "\n",
        "  # 1. Forwawrd pass\n",
        "  y_pred = model_0(X_train)\n",
        "\n",
        "  # 2. Calculate the loss\n",
        "  loss = loss_fn(y_pred, y_train) # difference between model prediction and training values (input first, target next)\n",
        "  # print(f\"Loss: {loss}\")\n",
        "\n",
        "  # 3. Optimizer zero grad\n",
        "  optimizer.zero_grad()\n",
        "\n",
        "  # 4. Perform backpropagation on the loss with respect to the parameters of the model\n",
        "  loss.backward()\n",
        "\n",
        "  # 5. Step the optimizer (perform gradeint descent)\n",
        "  optimizer.step() # by default how the optimizer changes will accumulate through the loop so... we have to zero them above in step 3 for the next iteration of the loop\n",
        "\n",
        "  model_0.eval() # turns off gradient tracking\n",
        "\n",
        "  with torch.inference_mode(): # turns off gradient tracking & a couple more things behind the scenes\n",
        "    # 1. Do the forward pass\n",
        "    test_pred = model_0(X_test)\n",
        "\n",
        "    # 2. Calculate the loss\n",
        "    test_loss = loss_fn(test_pred, y_test)\n",
        "    if epoch % 10 == 0:\n",
        "      epoch_count.append(epoch)\n",
        "      train_loss_values.append(loss.detach().numpy())\n",
        "      test_loss_values.append(test_loss.detach().numpy())\n",
        "      print(f\"Epoch: {epoch} | MAE Train Loss: {loss} | MAE Test Loss: {test_loss} \")\n",
        "\n",
        "  scheduler.step(loss)\n",
        "\n",
        "\n"
      ],
      "metadata": {
        "id": "qJ-TqY-vcBtD",
        "colab": {
          "base_uri": "https://localhost:8080/"
        },
        "outputId": "b928cc50-c73c-446a-caac-aefabe4fb5b2"
      },
      "execution_count": 117,
      "outputs": [
        {
          "output_type": "stream",
          "name": "stdout",
          "text": [
            "Epoch: 0 | MAE Train Loss: 0.31288138031959534 | MAE Test Loss: 0.48106518387794495 \n",
            "Epoch: 10 | MAE Train Loss: 0.1976713240146637 | MAE Test Loss: 0.3463551998138428 \n",
            "Epoch: 20 | MAE Train Loss: 0.08908725529909134 | MAE Test Loss: 0.21729660034179688 \n",
            "Epoch: 30 | MAE Train Loss: 0.053148526698350906 | MAE Test Loss: 0.14464017748832703 \n",
            "Epoch: 40 | MAE Train Loss: 0.04543796554207802 | MAE Test Loss: 0.11360953003168106 \n",
            "Epoch: 50 | MAE Train Loss: 0.04167863354086876 | MAE Test Loss: 0.09919948130846024 \n",
            "Epoch: 60 | MAE Train Loss: 0.03818932920694351 | MAE Test Loss: 0.08886633068323135 \n",
            "Epoch: 70 | MAE Train Loss: 0.03476089984178543 | MAE Test Loss: 0.0805937647819519 \n",
            "Epoch: 80 | MAE Train Loss: 0.03132382780313492 | MAE Test Loss: 0.07232122868299484 \n",
            "Epoch: 90 | MAE Train Loss: 0.02788739837706089 | MAE Test Loss: 0.06473556160926819 \n",
            "Epoch: 100 | MAE Train Loss: 0.024458957836031914 | MAE Test Loss: 0.05646304413676262 \n",
            "Epoch: 110 | MAE Train Loss: 0.021020207554101944 | MAE Test Loss: 0.04819049686193466 \n",
            "Epoch: 120 | MAE Train Loss: 0.01758546568453312 | MAE Test Loss: 0.04060482233762741 \n",
            "Epoch: 130 | MAE Train Loss: 0.014155393466353416 | MAE Test Loss: 0.03233227878808975 \n",
            "Epoch: 140 | MAE Train Loss: 0.010716589167714119 | MAE Test Loss: 0.024059748277068138 \n",
            "Epoch: 150 | MAE Train Loss: 0.0072835334576666355 | MAE Test Loss: 0.016474086791276932 \n",
            "Epoch: 160 | MAE Train Loss: 0.0038517764769494534 | MAE Test Loss: 0.008201557211577892 \n",
            "Epoch: 170 | MAE Train Loss: 0.008932482451200485 | MAE Test Loss: 0.005023092031478882 \n",
            "Epoch: 180 | MAE Train Loss: 0.0005601383745670319 | MAE Test Loss: 0.002137440489605069 \n",
            "Epoch: 190 | MAE Train Loss: 0.0009346440201625228 | MAE Test Loss: 0.00012595058069564402 \n",
            "Epoch: 200 | MAE Train Loss: 0.00011658221774268895 | MAE Test Loss: 0.00023990272893570364 \n",
            "Epoch: 210 | MAE Train Loss: 5.510598566615954e-05 | MAE Test Loss: 0.000119632481073495 \n",
            "Epoch: 220 | MAE Train Loss: 3.5672634112415835e-05 | MAE Test Loss: 1.2862682524428237e-05 \n",
            "Epoch: 230 | MAE Train Loss: 1.0440498954267241e-05 | MAE Test Loss: 2.0641087758122012e-05 \n",
            "Epoch: 240 | MAE Train Loss: 8.950382834882475e-06 | MAE Test Loss: 7.909536179795396e-06 \n",
            "Epoch: 250 | MAE Train Loss: 6.6980719566345215e-06 | MAE Test Loss: 6.073713393561775e-06 \n",
            "Epoch: 260 | MAE Train Loss: 3.4555791899038013e-06 | MAE Test Loss: 4.19616708313697e-06 \n",
            "Epoch: 270 | MAE Train Loss: 4.6268104370028595e-07 | MAE Test Loss: 9.00030158845766e-07 \n",
            "Epoch: 280 | MAE Train Loss: 7.547438372057513e-07 | MAE Test Loss: 4.5299529460862686e-07 \n",
            "Epoch: 290 | MAE Train Loss: 6.258487417198921e-08 | MAE Test Loss: 2.0265579792067e-07 \n",
            "Epoch: 300 | MAE Train Loss: 4.023313593393141e-08 | MAE Test Loss: 0.0 \n",
            "Epoch: 310 | MAE Train Loss: 1.4901161193847656e-08 | MAE Test Loss: 5.960464477539063e-08 \n",
            "Epoch: 320 | MAE Train Loss: 1.4901161193847656e-08 | MAE Test Loss: 5.960464477539063e-08 \n",
            "Epoch: 330 | MAE Train Loss: 1.4901161193847656e-08 | MAE Test Loss: 5.960464477539063e-08 \n",
            "Epoch: 340 | MAE Train Loss: 1.4901161193847656e-08 | MAE Test Loss: 5.960464477539063e-08 \n",
            "Epoch: 350 | MAE Train Loss: 1.4901161193847656e-08 | MAE Test Loss: 5.960464477539063e-08 \n",
            "Epoch: 360 | MAE Train Loss: 1.4901161193847656e-08 | MAE Test Loss: 5.960464477539063e-08 \n",
            "Epoch: 370 | MAE Train Loss: 1.4901161193847656e-08 | MAE Test Loss: 5.960464477539063e-08 \n",
            "Epoch: 380 | MAE Train Loss: 1.4901161193847656e-08 | MAE Test Loss: 5.960464477539063e-08 \n",
            "Epoch: 390 | MAE Train Loss: 1.4901161193847656e-08 | MAE Test Loss: 5.960464477539063e-08 \n",
            "Epoch: 400 | MAE Train Loss: 1.4901161193847656e-08 | MAE Test Loss: 5.960464477539063e-08 \n",
            "Epoch: 410 | MAE Train Loss: 1.4901161193847656e-08 | MAE Test Loss: 5.960464477539063e-08 \n",
            "Epoch: 420 | MAE Train Loss: 1.4901161193847656e-08 | MAE Test Loss: 5.960464477539063e-08 \n",
            "Epoch: 430 | MAE Train Loss: 1.4901161193847656e-08 | MAE Test Loss: 5.960464477539063e-08 \n",
            "Epoch: 440 | MAE Train Loss: 1.4901161193847656e-08 | MAE Test Loss: 5.960464477539063e-08 \n",
            "Epoch: 450 | MAE Train Loss: 1.4901161193847656e-08 | MAE Test Loss: 5.960464477539063e-08 \n",
            "Epoch: 460 | MAE Train Loss: 1.4901161193847656e-08 | MAE Test Loss: 5.960464477539063e-08 \n",
            "Epoch: 470 | MAE Train Loss: 1.4901161193847656e-08 | MAE Test Loss: 5.960464477539063e-08 \n",
            "Epoch: 480 | MAE Train Loss: 1.4901161193847656e-08 | MAE Test Loss: 5.960464477539063e-08 \n",
            "Epoch: 490 | MAE Train Loss: 1.4901161193847656e-08 | MAE Test Loss: 5.960464477539063e-08 \n",
            "Epoch: 500 | MAE Train Loss: 1.4901161193847656e-08 | MAE Test Loss: 5.960464477539063e-08 \n",
            "Epoch: 510 | MAE Train Loss: 1.4901161193847656e-08 | MAE Test Loss: 5.960464477539063e-08 \n",
            "Epoch: 520 | MAE Train Loss: 1.4901161193847656e-08 | MAE Test Loss: 5.960464477539063e-08 \n",
            "Epoch: 530 | MAE Train Loss: 1.4901161193847656e-08 | MAE Test Loss: 5.960464477539063e-08 \n",
            "Epoch: 540 | MAE Train Loss: 1.4901161193847656e-08 | MAE Test Loss: 5.960464477539063e-08 \n",
            "Epoch: 550 | MAE Train Loss: 1.4901161193847656e-08 | MAE Test Loss: 5.960464477539063e-08 \n",
            "Epoch: 560 | MAE Train Loss: 1.4901161193847656e-08 | MAE Test Loss: 5.960464477539063e-08 \n",
            "Epoch: 570 | MAE Train Loss: 1.4901161193847656e-08 | MAE Test Loss: 5.960464477539063e-08 \n",
            "Epoch: 580 | MAE Train Loss: 1.4901161193847656e-08 | MAE Test Loss: 5.960464477539063e-08 \n",
            "Epoch: 590 | MAE Train Loss: 1.4901161193847656e-08 | MAE Test Loss: 5.960464477539063e-08 \n",
            "Epoch: 600 | MAE Train Loss: 1.4901161193847656e-08 | MAE Test Loss: 5.960464477539063e-08 \n",
            "Epoch: 610 | MAE Train Loss: 1.4901161193847656e-08 | MAE Test Loss: 5.960464477539063e-08 \n",
            "Epoch: 620 | MAE Train Loss: 1.4901161193847656e-08 | MAE Test Loss: 5.960464477539063e-08 \n",
            "Epoch: 630 | MAE Train Loss: 1.4901161193847656e-08 | MAE Test Loss: 5.960464477539063e-08 \n",
            "Epoch: 640 | MAE Train Loss: 1.4901161193847656e-08 | MAE Test Loss: 5.960464477539063e-08 \n",
            "Epoch: 650 | MAE Train Loss: 1.4901161193847656e-08 | MAE Test Loss: 5.960464477539063e-08 \n",
            "Epoch: 660 | MAE Train Loss: 1.4901161193847656e-08 | MAE Test Loss: 5.960464477539063e-08 \n",
            "Epoch: 670 | MAE Train Loss: 1.4901161193847656e-08 | MAE Test Loss: 5.960464477539063e-08 \n",
            "Epoch: 680 | MAE Train Loss: 1.4901161193847656e-08 | MAE Test Loss: 5.960464477539063e-08 \n",
            "Epoch: 690 | MAE Train Loss: 1.4901161193847656e-08 | MAE Test Loss: 5.960464477539063e-08 \n",
            "Epoch: 700 | MAE Train Loss: 1.4901161193847656e-08 | MAE Test Loss: 5.960464477539063e-08 \n",
            "Epoch: 710 | MAE Train Loss: 1.4901161193847656e-08 | MAE Test Loss: 5.960464477539063e-08 \n",
            "Epoch: 720 | MAE Train Loss: 1.4901161193847656e-08 | MAE Test Loss: 5.960464477539063e-08 \n",
            "Epoch: 730 | MAE Train Loss: 1.4901161193847656e-08 | MAE Test Loss: 5.960464477539063e-08 \n",
            "Epoch: 740 | MAE Train Loss: 1.4901161193847656e-08 | MAE Test Loss: 5.960464477539063e-08 \n",
            "Epoch: 750 | MAE Train Loss: 1.4901161193847656e-08 | MAE Test Loss: 5.960464477539063e-08 \n",
            "Epoch: 760 | MAE Train Loss: 1.4901161193847656e-08 | MAE Test Loss: 5.960464477539063e-08 \n",
            "Epoch: 770 | MAE Train Loss: 1.4901161193847656e-08 | MAE Test Loss: 5.960464477539063e-08 \n",
            "Epoch: 780 | MAE Train Loss: 1.4901161193847656e-08 | MAE Test Loss: 5.960464477539063e-08 \n",
            "Epoch: 790 | MAE Train Loss: 1.4901161193847656e-08 | MAE Test Loss: 5.960464477539063e-08 \n",
            "Epoch: 800 | MAE Train Loss: 1.4901161193847656e-08 | MAE Test Loss: 5.960464477539063e-08 \n",
            "Epoch: 810 | MAE Train Loss: 1.4901161193847656e-08 | MAE Test Loss: 5.960464477539063e-08 \n",
            "Epoch: 820 | MAE Train Loss: 1.4901161193847656e-08 | MAE Test Loss: 5.960464477539063e-08 \n",
            "Epoch: 830 | MAE Train Loss: 1.4901161193847656e-08 | MAE Test Loss: 5.960464477539063e-08 \n",
            "Epoch: 840 | MAE Train Loss: 1.4901161193847656e-08 | MAE Test Loss: 5.960464477539063e-08 \n",
            "Epoch: 850 | MAE Train Loss: 1.4901161193847656e-08 | MAE Test Loss: 5.960464477539063e-08 \n",
            "Epoch: 860 | MAE Train Loss: 1.4901161193847656e-08 | MAE Test Loss: 5.960464477539063e-08 \n",
            "Epoch: 870 | MAE Train Loss: 1.4901161193847656e-08 | MAE Test Loss: 5.960464477539063e-08 \n",
            "Epoch: 880 | MAE Train Loss: 1.4901161193847656e-08 | MAE Test Loss: 5.960464477539063e-08 \n",
            "Epoch: 890 | MAE Train Loss: 1.4901161193847656e-08 | MAE Test Loss: 5.960464477539063e-08 \n",
            "Epoch: 900 | MAE Train Loss: 1.4901161193847656e-08 | MAE Test Loss: 5.960464477539063e-08 \n",
            "Epoch: 910 | MAE Train Loss: 1.4901161193847656e-08 | MAE Test Loss: 5.960464477539063e-08 \n",
            "Epoch: 920 | MAE Train Loss: 1.4901161193847656e-08 | MAE Test Loss: 5.960464477539063e-08 \n",
            "Epoch: 930 | MAE Train Loss: 1.4901161193847656e-08 | MAE Test Loss: 5.960464477539063e-08 \n",
            "Epoch: 940 | MAE Train Loss: 1.4901161193847656e-08 | MAE Test Loss: 5.960464477539063e-08 \n",
            "Epoch: 950 | MAE Train Loss: 1.4901161193847656e-08 | MAE Test Loss: 5.960464477539063e-08 \n",
            "Epoch: 960 | MAE Train Loss: 1.4901161193847656e-08 | MAE Test Loss: 5.960464477539063e-08 \n",
            "Epoch: 970 | MAE Train Loss: 1.4901161193847656e-08 | MAE Test Loss: 5.960464477539063e-08 \n",
            "Epoch: 980 | MAE Train Loss: 1.4901161193847656e-08 | MAE Test Loss: 5.960464477539063e-08 \n",
            "Epoch: 990 | MAE Train Loss: 1.4901161193847656e-08 | MAE Test Loss: 5.960464477539063e-08 \n"
          ]
        }
      ]
    },
    {
      "cell_type": "code",
      "source": [
        "# Plot the loss curves\n",
        "plt.plot(epoch_count, train_loss_values, label=\"Train loss\")\n",
        "plt.plot(epoch_count, test_loss_values, label=\"Test loss\")\n",
        "plt.title(\"Training and test loss curves\")\n",
        "plt.ylabel(\"Loss\")\n",
        "plt.xlabel(\"Epochs\")\n",
        "plt.legend();"
      ],
      "metadata": {
        "colab": {
          "base_uri": "https://localhost:8080/",
          "height": 472
        },
        "id": "EDNx7n32EItn",
        "outputId": "ae16839f-14ef-44e7-8e12-b2e6cd8865b6"
      },
      "execution_count": 118,
      "outputs": [
        {
          "output_type": "display_data",
          "data": {
            "text/plain": [
              "<Figure size 640x480 with 1 Axes>"
            ],
            "image/png": "[encoded data removed]"
          },
          "metadata": {}
        }
      ]
    },
    {
      "cell_type": "code",
      "source": [
        "print(model_0.state_dict())\n",
        "\n",
        "with torch.inference_mode():\n",
        "  y_preds = model_0(X_test)\n",
        "plot_predictions(predictions=y_preds)"
      ],
      "metadata": {
        "colab": {
          "base_uri": "https://localhost:8080/",
          "height": 617
        },
        "id": "y05iMWnIddKR",
        "outputId": "271ae3c6-7df9-40e5-b63e-172a210db886"
      },
      "execution_count": 119,
      "outputs": [
        {
          "output_type": "stream",
          "name": "stdout",
          "text": [
            "OrderedDict([('weights', tensor([0.7000])), ('bias', tensor([0.3000]))])\n"
          ]
        },
        {
          "output_type": "display_data",
          "data": {
            "text/plain": [
              "<Figure size 1000x700 with 1 Axes>"
            ],
            "image/png": "[encoded data removed]"
          },
          "metadata": {}
        }
      ]
    },
    {
      "cell_type": "markdown",
      "source": [
        "## Saving a model in PyTorch\n",
        "\n",
        "There are three main methods for saving and loading models in PyTorch.\n",
        "\n",
        "1. `torch.save()` - allows you to save a PyTorch object in Python's pickle format\n",
        "2. `torch.load()` - allows you to load a saved PyTorch object\n",
        "3. `torch.nn.Module.load_state_dict()` - this allows to load a model's saved sate dictionary"
      ],
      "metadata": {
        "id": "mpyPS94Rkpof"
      }
    },
    {
      "cell_type": "code",
      "source": [
        "model_0.state_dict()"
      ],
      "metadata": {
        "colab": {
          "base_uri": "https://localhost:8080/"
        },
        "id": "IzF-C9AjQ6Ui",
        "outputId": "b63a88ac-3283-4aea-a6cb-b91324909f35"
      },
      "execution_count": 120,
      "outputs": [
        {
          "output_type": "execute_result",
          "data": {
            "text/plain": [
              "OrderedDict([('weights', tensor([0.7000])), ('bias', tensor([0.3000]))])"
            ]
          },
          "metadata": {},
          "execution_count": 120
        }
      ]
    },
    {
      "cell_type": "code",
      "source": [
        "# saving our PyTorch model\n",
        "\n",
        "from pathlib import Path\n",
        "\n",
        "# 1. Create models directory\n",
        "MODEL_PATH = Path(\"models\")\n",
        "MODEL_PATH.mkdir(parents=True, exist_ok=True)\n",
        "\n",
        "# 2. Create model save path\n",
        "MODEL_NAME = \"01_pytorch_workflow_model_0.pth\"\n",
        "MODEL_SAVE_PATH = MODEL_PATH / MODEL_NAME\n",
        "\n",
        "MODEL_SAVE_PATH"
      ],
      "metadata": {
        "colab": {
          "base_uri": "https://localhost:8080/"
        },
        "id": "dQTA0ED0RfBl",
        "outputId": "527b47c7-22d6-4387-b70f-0c7e3d481eb5"
      },
      "execution_count": 121,
      "outputs": [
        {
          "output_type": "execute_result",
          "data": {
            "text/plain": [
              "PosixPath('models/01_pytorch_workflow_model_0.pth')"
            ]
          },
          "metadata": {},
          "execution_count": 121
        }
      ]
    },
    {
      "cell_type": "code",
      "source": [
        "# 3. Save the model state dict\n",
        "print(f\"Saving model to: {MODEL_SAVE_PATH}\")\n",
        "torch.save(obj=model_0.state_dict(),\n",
        "           f=MODEL_SAVE_PATH)"
      ],
      "metadata": {
        "colab": {
          "base_uri": "https://localhost:8080/"
        },
        "id": "ALLT1zVgS3qK",
        "outputId": "fe5b1b76-ecb9-4748-9290-2c0338654db2"
      },
      "execution_count": 122,
      "outputs": [
        {
          "output_type": "stream",
          "name": "stdout",
          "text": [
            "Saving model to: models/01_pytorch_workflow_model_0.pth\n"
          ]
        }
      ]
    },
    {
      "cell_type": "code",
      "source": [
        "!ls -l models"
      ],
      "metadata": {
        "colab": {
          "base_uri": "https://localhost:8080/"
        },
        "id": "yGu9oEtLTU_S",
        "outputId": "5916ef7c-a6ce-4358-da54-3bfbb2fd02b5"
      },
      "execution_count": 123,
      "outputs": [
        {
          "output_type": "stream",
          "name": "stdout",
          "text": [
            "total 4\n",
            "-rw-r--r-- 1 root root 1680 Jul 12 14:01 01_pytorch_workflow_model_0.pth\n"
          ]
        }
      ]
    },
    {
      "cell_type": "markdown",
      "source": [
        "## Loading a PyTorch model\n",
        "\n",
        "Since we saved our model's `state_dict()` rather than the entire modek, we'll create a new instance of our model class and load the saved `state_dct()` into that."
      ],
      "metadata": {
        "id": "hD2Jb00MTiwH"
      }
    },
    {
      "cell_type": "code",
      "source": [
        "# To load in a saved state_dict we have to instantiate a new instance of our model class\n",
        "loaded_model_0 = LinearRegressionModel()\n",
        "\n",
        "# Load the saved state_dict of model 0 (this will update the new instance with updated parameters)\n",
        "loaded_model_0.load_state_dict(torch.load(f=MODEL_SAVE_PATH))"
      ],
      "metadata": {
        "colab": {
          "base_uri": "https://localhost:8080/"
        },
        "id": "9VL8SzgoUMyI",
        "outputId": "e9766ada-bb87-4863-9c6e-8f43b9cd12cf"
      },
      "execution_count": 124,
      "outputs": [
        {
          "output_type": "execute_result",
          "data": {
            "text/plain": [
              "<All keys matched successfully>"
            ]
          },
          "metadata": {},
          "execution_count": 124
        }
      ]
    },
    {
      "cell_type": "code",
      "source": [
        "loaded_model_0.state_dict()"
      ],
      "metadata": {
        "colab": {
          "base_uri": "https://localhost:8080/"
        },
        "id": "DPpcEK2ZU4lD",
        "outputId": "d93abc5a-5c92-45c6-dd24-f717e6b00165"
      },
      "execution_count": 125,
      "outputs": [
        {
          "output_type": "execute_result",
          "data": {
            "text/plain": [
              "OrderedDict([('weights', tensor([0.7000])), ('bias', tensor([0.3000]))])"
            ]
          },
          "metadata": {},
          "execution_count": 125
        }
      ]
    },
    {
      "cell_type": "code",
      "source": [
        "# Make some predictions with our loaded model\n",
        "loaded_model_0.eval()\n",
        "with torch.inference_mode():\n",
        "  loaded_model_preds = loaded_model_0(X_test)\n",
        "\n",
        "loaded_model_preds, y_preds"
      ],
      "metadata": {
        "colab": {
          "base_uri": "https://localhost:8080/"
        },
        "id": "GUS5H4jXU64e",
        "outputId": "261f2080-7dab-492c-ce7a-a2465da7fa08"
      },
      "execution_count": 126,
      "outputs": [
        {
          "output_type": "execute_result",
          "data": {
            "text/plain": [
              "(tensor([[0.8600],\n",
              "         [0.8740],\n",
              "         [0.8880],\n",
              "         [0.9020],\n",
              "         [0.9160],\n",
              "         [0.9300],\n",
              "         [0.9440],\n",
              "         [0.9580],\n",
              "         [0.9720],\n",
              "         [0.9860]]),\n",
              " tensor([[0.8600],\n",
              "         [0.8740],\n",
              "         [0.8880],\n",
              "         [0.9020],\n",
              "         [0.9160],\n",
              "         [0.9300],\n",
              "         [0.9440],\n",
              "         [0.9580],\n",
              "         [0.9720],\n",
              "         [0.9860]]))"
            ]
          },
          "metadata": {},
          "execution_count": 126
        }
      ]
    },
    {
      "cell_type": "code",
      "source": [
        "y_preds == loaded_model_preds"
      ],
      "metadata": {
        "colab": {
          "base_uri": "https://localhost:8080/"
        },
        "id": "3hb6qbiGVJ6P",
        "outputId": "a7abb9a2-5ea6-4b33-f3f9-defbb2c2a686"
      },
      "execution_count": 127,
      "outputs": [
        {
          "output_type": "execute_result",
          "data": {
            "text/plain": [
              "tensor([[True],\n",
              "        [True],\n",
              "        [True],\n",
              "        [True],\n",
              "        [True],\n",
              "        [True],\n",
              "        [True],\n",
              "        [True],\n",
              "        [True],\n",
              "        [True]])"
            ]
          },
          "metadata": {},
          "execution_count": 127
        }
      ]
    },
    {
      "cell_type": "markdown",
      "source": [
        "## 6. Putting it all together\n",
        "\n",
        "Let's go back through the step above and see it all in one place."
      ],
      "metadata": {
        "id": "FjDXqASjVP2l"
      }
    },
    {
      "cell_type": "code",
      "source": [
        "# Import PyTorch and matplotlib\n",
        "import torch\n",
        "from torch import nn\n",
        "import matplotlib.pyplot as plt\n",
        "\n",
        "# Check PyTorch version\n",
        "torch.__version__"
      ],
      "metadata": {
        "colab": {
          "base_uri": "https://localhost:8080/",
          "height": 36
        },
        "id": "1kDl7ByPZzo3",
        "outputId": "22741132-a932-467e-f459-594ad2c6df34"
      },
      "execution_count": 128,
      "outputs": [
        {
          "output_type": "execute_result",
          "data": {
            "text/plain": [
              "'2.6.0+cu124'"
            ],
            "application/vnd.google.colaboratory.intrinsic+json": {
              "type": "string"
            }
          },
          "metadata": {},
          "execution_count": 128
        }
      ]
    },
    {
      "cell_type": "markdown",
      "source": [
        "Create device-agnostic code.\n",
        "\n",
        "This means if we've got access to a GPU, our code will use it (for potentially faster computing)\n",
        "\n",
        "If no GPU is available, the code will default to using CPU."
      ],
      "metadata": {
        "id": "3nFjY7dLaRGR"
      }
    },
    {
      "cell_type": "code",
      "source": [
        "# Setup device agnostic code\n",
        "device = \"cuda\" if torch.cuda.is_available() else \"cpu\"\n",
        "print(f\"Using device: {device}\")"
      ],
      "metadata": {
        "colab": {
          "base_uri": "https://localhost:8080/"
        },
        "id": "FEHnJti1acGM",
        "outputId": "0891ed00-9aeb-485d-a347-56e6ba258f79"
      },
      "execution_count": 129,
      "outputs": [
        {
          "output_type": "stream",
          "name": "stdout",
          "text": [
            "Using device: cuda\n"
          ]
        }
      ]
    },
    {
      "cell_type": "code",
      "source": [
        "!nvidia-smi"
      ],
      "metadata": {
        "colab": {
          "base_uri": "https://localhost:8080/"
        },
        "id": "JHqmqRxbavXq",
        "outputId": "0e7e0d46-628a-4386-ba01-11c832e53ae6"
      },
      "execution_count": 130,
      "outputs": [
        {
          "output_type": "stream",
          "name": "stdout",
          "text": [
            "Sat Jul 12 14:01:55 2025       \n",
            "+-----------------------------------------------------------------------------------------+\n",
            "| NVIDIA-SMI 550.54.15              Driver Version: 550.54.15      CUDA Version: 12.4     |\n",
            "|-----------------------------------------+------------------------+----------------------+\n",
            "| GPU  Name                 Persistence-M | Bus-Id          Disp.A | Volatile Uncorr. ECC |\n",
            "| Fan  Temp   Perf          Pwr:Usage/Cap |           Memory-Usage | GPU-Util  Compute M. |\n",
            "|                                         |                        |               MIG M. |\n",
            "|=========================================+========================+======================|\n",
            "|   0  Tesla T4                       Off |   00000000:00:04.0 Off |                    0 |\n",
            "| N/A   68C    P0             33W /   70W |     158MiB /  15360MiB |      0%      Default |\n",
            "|                                         |                        |                  N/A |\n",
            "+-----------------------------------------+------------------------+----------------------+\n",
            "                                                                                         \n",
            "+-----------------------------------------------------------------------------------------+\n",
            "| Processes:                                                                              |\n",
            "|  GPU   GI   CI        PID   Type   Process name                              GPU Memory |\n",
            "|        ID   ID                                                               Usage      |\n",
            "|=========================================================================================|\n",
            "+-----------------------------------------------------------------------------------------+\n"
          ]
        }
      ]
    },
    {
      "cell_type": "markdown",
      "source": [
        "### 6.1 Data"
      ],
      "metadata": {
        "id": "mEWSg6ESZvMe"
      }
    },
    {
      "cell_type": "code",
      "source": [
        "# Create some data using the linear regression formula of y = weight * X + bias\n",
        "weight = 0.7\n",
        "bias = 0.3\n",
        "\n",
        "# Create range values\n",
        "start = 0\n",
        "end = 1\n",
        "step = 0.02\n",
        "\n",
        "# Create X and y (features and labels)\n",
        "X = torch.arange(start, end, step).unsqueeze(dim=1) # Without unsqueeze, errors will pop up\n",
        "y = weight * X + bias\n",
        "X[:10], y[:10]"
      ],
      "metadata": {
        "colab": {
          "base_uri": "https://localhost:8080/"
        },
        "id": "7Nom96lKZxU-",
        "outputId": "10f484e4-7034-4785-c1c1-e9e6d5ede0ae"
      },
      "execution_count": 131,
      "outputs": [
        {
          "output_type": "execute_result",
          "data": {
            "text/plain": [
              "(tensor([[0.0000],\n",
              "         [0.0200],\n",
              "         [0.0400],\n",
              "         [0.0600],\n",
              "         [0.0800],\n",
              "         [0.1000],\n",
              "         [0.1200],\n",
              "         [0.1400],\n",
              "         [0.1600],\n",
              "         [0.1800]]),\n",
              " tensor([[0.3000],\n",
              "         [0.3140],\n",
              "         [0.3280],\n",
              "         [0.3420],\n",
              "         [0.3560],\n",
              "         [0.3700],\n",
              "         [0.3840],\n",
              "         [0.3980],\n",
              "         [0.4120],\n",
              "         [0.4260]]))"
            ]
          },
          "metadata": {},
          "execution_count": 131
        }
      ]
    },
    {
      "cell_type": "code",
      "source": [
        "# split the data\n",
        "train_split = int(0.8 * len(X))\n",
        "X_train, y_train = X[:train_split], y[:train_split]\n",
        "X_test, y_test = X[train_split:], y[train_split:]\n",
        "len(X_train), len(y_train), len(X_test), len(y_test)"
      ],
      "metadata": {
        "colab": {
          "base_uri": "https://localhost:8080/"
        },
        "id": "OKPSM_pDblQc",
        "outputId": "0f2cddf8-0ef3-42aa-f691-4e5b06c47914"
      },
      "execution_count": 132,
      "outputs": [
        {
          "output_type": "execute_result",
          "data": {
            "text/plain": [
              "(40, 40, 10, 10)"
            ]
          },
          "metadata": {},
          "execution_count": 132
        }
      ]
    },
    {
      "cell_type": "code",
      "source": [
        "# Plot the data\n",
        "# Note: if you don't have the plot_predictions() function loaded, this will error\n",
        "plot_predictions(X_train, y_train, X_test, y_test)"
      ],
      "metadata": {
        "colab": {
          "base_uri": "https://localhost:8080/",
          "height": 599
        },
        "id": "ppNV1pahb7xj",
        "outputId": "4f862163-4066-4009-cff9-a74625319aae"
      },
      "execution_count": 133,
      "outputs": [
        {
          "output_type": "display_data",
          "data": {
            "text/plain": [
              "<Figure size 1000x700 with 1 Axes>"
            ],
            "image/png": "[encoded data removed]"
          },
          "metadata": {}
        }
      ]
    },
    {
      "cell_type": "markdown",
      "source": [
        "## 6.2. Building a PyTorch Linear model"
      ],
      "metadata": {
        "id": "LkJeZQOGcPxl"
      }
    },
    {
      "cell_type": "code",
      "source": [
        "# Create a linear model by subclassing nn.Module\n",
        "class LinearRegressionModelV2(nn.Module):\n",
        "  def __init__(self):\n",
        "    super().__init__()\n",
        "    # instead of initializing the parameters ourselves, we will create a linear layer to do it for us\n",
        "    # Use nn.Linear() for creating the model parameters / also called: lienar tranform, probing layer, fully connected layer, dense layer (Tensor Flow)\n",
        "    self.linear_layer = nn.Linear(in_features=1,\n",
        "                                  out_features=1)\n",
        "  def forward(self, x: torch.Tensor) -> torch.Tensor:\n",
        "    return self.linear_layer(x)\n",
        "\n",
        "# Set the manual seed\n",
        "torch.manual_seed(42)\n",
        "model_1 = LinearRegressionModelV2()\n",
        "model_1, model_1.state_dict()"
      ],
      "metadata": {
        "colab": {
          "base_uri": "https://localhost:8080/"
        },
        "id": "8om6PMQTcbob",
        "outputId": "920703f2-2044-4d00-d6e9-2cbcbd78d3ec"
      },
      "execution_count": 134,
      "outputs": [
        {
          "output_type": "execute_result",
          "data": {
            "text/plain": [
              "(LinearRegressionModelV2(\n",
              "   (linear_layer): Linear(in_features=1, out_features=1, bias=True)\n",
              " ),\n",
              " OrderedDict([('linear_layer.weight', tensor([[0.7645]])),\n",
              "              ('linear_layer.bias', tensor([0.8300]))]))"
            ]
          },
          "metadata": {},
          "execution_count": 134
        }
      ]
    },
    {
      "cell_type": "code",
      "source": [
        "# Check the model current device\n",
        "next(model_1.parameters()).device"
      ],
      "metadata": {
        "colab": {
          "base_uri": "https://localhost:8080/"
        },
        "id": "HZ4IQE-nfIWL",
        "outputId": "d2cfa557-5f79-427c-921a-2956aef1c472"
      },
      "execution_count": 135,
      "outputs": [
        {
          "output_type": "execute_result",
          "data": {
            "text/plain": [
              "device(type='cpu')"
            ]
          },
          "metadata": {},
          "execution_count": 135
        }
      ]
    },
    {
      "cell_type": "code",
      "source": [
        "# Set the model to use the target device\n",
        "model_1.to(device)\n",
        "next(model_1.parameters()).device"
      ],
      "metadata": {
        "colab": {
          "base_uri": "https://localhost:8080/"
        },
        "id": "uDZNHjXkd6TY",
        "outputId": "9c5294e3-68ed-474f-d4d9-9dfce64ed4f7"
      },
      "execution_count": 136,
      "outputs": [
        {
          "output_type": "execute_result",
          "data": {
            "text/plain": [
              "device(type='cuda', index=0)"
            ]
          },
          "metadata": {},
          "execution_count": 136
        }
      ]
    },
    {
      "cell_type": "markdown",
      "source": [
        "### 6.3 Training\n",
        "\n",
        "For training we need:\n",
        "* Loss function\n",
        "* Optimizer\n",
        "* Training loop\n",
        "* Testing loop"
      ],
      "metadata": {
        "id": "skDjkO60fPoT"
      }
    },
    {
      "cell_type": "code",
      "source": [
        "# Setup loss function\n",
        "\n",
        "loss_fn = nn.L1Loss()\n",
        "\n",
        "# Setup our optimizer\n",
        "optimizer = torch.optim.SGD(params=model_1.parameters(),\n",
        "                            lr=0.01)"
      ],
      "metadata": {
        "id": "ydy7XGZlfmQh"
      },
      "execution_count": 137,
      "outputs": []
    },
    {
      "cell_type": "code",
      "source": [
        "# Write a training loop\n",
        "torch.manual_seed(42)\n",
        "\n",
        "scheduler = ReduceLROnPlateau(optimizer, mode='min', factor=0.5, patience=2)\n",
        "\n",
        "# Put target data on same device as model (device agnostic data)\n",
        "X_train = X_train.to(device)\n",
        "y_train = y_train.to(device)\n",
        "X_test = X_test.to(device)\n",
        "y_test = y_test.to(device)\n",
        "\n",
        "epoch = 200\n",
        "\n",
        "for epoch in range(epochs):\n",
        "  model_1.train()\n",
        "\n",
        "  # 1. Forward pass\n",
        "  y_pred = model_1(X_train)\n",
        "\n",
        "  # 2. Calculated the loss\n",
        "  loss = loss_fn(y_pred, y_train)\n",
        "\n",
        "  # 3. Optimizer zero grad\n",
        "  optimizer.zero_grad()\n",
        "\n",
        "  # 4. Perform backpropagation\n",
        "  loss.backward()\n",
        "\n",
        "  # 5. Optimizer step\n",
        "  optimizer.step()\n",
        "\n",
        "  ### Testing\n",
        "  model_1.eval()\n",
        "  with torch.inference_mode():\n",
        "    test_pred = model_1(X_test)\n",
        "\n",
        "    test_loss = loss_fn(test_pred, y_test)\n",
        "\n",
        "  # Print out what's happening\n",
        "  if epoch % 10 == 0:\n",
        "    print(f\"Epoch: {epoch} | Loss: {loss} | Test loss: {test_loss}\")\n",
        "\n",
        "    scheduler.step(loss)"
      ],
      "metadata": {
        "colab": {
          "base_uri": "https://localhost:8080/"
        },
        "id": "u4fk-IPwgADP",
        "outputId": "84ec9cc3-0acf-4998-9930-0481b181d4d9"
      },
      "execution_count": 138,
      "outputs": [
        {
          "output_type": "stream",
          "name": "stdout",
          "text": [
            "Epoch: 0 | Loss: 0.5551779866218567 | Test loss: 0.5739762187004089\n",
            "Epoch: 10 | Loss: 0.439968079328537 | Test loss: 0.4392664134502411\n",
            "Epoch: 20 | Loss: 0.3247582018375397 | Test loss: 0.30455657839775085\n",
            "Epoch: 30 | Loss: 0.20954833924770355 | Test loss: 0.16984669864177704\n",
            "Epoch: 40 | Loss: 0.09433845430612564 | Test loss: 0.03513690456748009\n",
            "Epoch: 50 | Loss: 0.023886388167738914 | Test loss: 0.04784907028079033\n",
            "Epoch: 60 | Loss: 0.019956795498728752 | Test loss: 0.045803118497133255\n",
            "Epoch: 70 | Loss: 0.016517987474799156 | Test loss: 0.037530567497015\n",
            "Epoch: 80 | Loss: 0.013089174404740334 | Test loss: 0.02994490973651409\n",
            "Epoch: 90 | Loss: 0.009653178043663502 | Test loss: 0.02167237363755703\n",
            "Epoch: 100 | Loss: 0.006215683650225401 | Test loss: 0.014086711220443249\n",
            "Epoch: 110 | Loss: 0.00278724217787385 | Test loss: 0.005814164876937866\n",
            "Epoch: 120 | Loss: 0.0012645035749301314 | Test loss: 0.013801801018416882\n",
            "Epoch: 130 | Loss: 0.0012645035749301314 | Test loss: 0.013801801018416882\n",
            "Epoch: 140 | Loss: 0.0012645035749301314 | Test loss: 0.013801801018416882\n",
            "Epoch: 150 | Loss: 0.0012645035749301314 | Test loss: 0.013801801018416882\n",
            "Epoch: 160 | Loss: 0.0044959778897464275 | Test loss: 0.00033077000989578664\n",
            "Epoch: 170 | Loss: 0.0044959778897464275 | Test loss: 0.00033077000989578664\n",
            "Epoch: 180 | Loss: 0.0044959778897464275 | Test loss: 0.00033077000989578664\n",
            "Epoch: 190 | Loss: 0.0016666107112541795 | Test loss: 0.0002866327704396099\n",
            "Epoch: 200 | Loss: 0.0016666107112541795 | Test loss: 0.0002866327704396099\n",
            "Epoch: 210 | Loss: 0.0016666107112541795 | Test loss: 0.0002866327704396099\n",
            "Epoch: 220 | Loss: 0.0003398083208594471 | Test loss: 0.0008322358480654657\n",
            "Epoch: 230 | Loss: 0.0008367337286472321 | Test loss: 0.001228082226589322\n",
            "Epoch: 240 | Loss: 0.0008367337286472321 | Test loss: 0.001228082226589322\n",
            "Epoch: 250 | Loss: 0.0008367337286472321 | Test loss: 0.001228082226589322\n",
            "Epoch: 260 | Loss: 0.00043497534352354705 | Test loss: 0.0006219804636202753\n",
            "Epoch: 270 | Loss: 0.00043497534352354705 | Test loss: 0.0006219804636202753\n",
            "Epoch: 280 | Loss: 0.00043497534352354705 | Test loss: 0.0006219804636202753\n",
            "Epoch: 290 | Loss: 0.00010275617387378588 | Test loss: 0.0004383742925710976\n",
            "Epoch: 300 | Loss: 0.00010275617387378588 | Test loss: 0.0004383742925710976\n",
            "Epoch: 310 | Loss: 0.00010275617387378588 | Test loss: 0.0004383742925710976\n",
            "Epoch: 320 | Loss: 0.00010275617387378588 | Test loss: 0.0004383742925710976\n",
            "Epoch: 330 | Loss: 0.00011194572289241478 | Test loss: 8.821487426757812e-06\n",
            "Epoch: 340 | Loss: 0.00011194572289241478 | Test loss: 8.821487426757812e-06\n",
            "Epoch: 350 | Loss: 0.00011194572289241478 | Test loss: 8.821487426757812e-06\n",
            "Epoch: 360 | Loss: 1.4187396118359175e-05 | Test loss: 5.316734586813254e-06\n",
            "Epoch: 370 | Loss: 6.681755621684715e-05 | Test loss: 2.366304443057743e-06\n",
            "Epoch: 380 | Loss: 6.681755621684715e-05 | Test loss: 2.366304443057743e-06\n",
            "Epoch: 390 | Loss: 6.681755621684715e-05 | Test loss: 2.366304443057743e-06\n",
            "Epoch: 400 | Loss: 2.3814291125745513e-05 | Test loss: 2.2351741790771484e-06\n",
            "Epoch: 410 | Loss: 2.3814291125745513e-05 | Test loss: 2.2351741790771484e-06\n",
            "Epoch: 420 | Loss: 2.3814291125745513e-05 | Test loss: 2.2351741790771484e-06\n",
            "Epoch: 430 | Loss: 4.838407221541274e-06 | Test loss: 1.1807680493802764e-05\n",
            "Epoch: 440 | Loss: 1.4781207028136123e-05 | Test loss: 1.653432809689548e-05\n",
            "Epoch: 450 | Loss: 1.4781207028136123e-05 | Test loss: 1.653432809689548e-05\n",
            "Epoch: 460 | Loss: 1.4781207028136123e-05 | Test loss: 1.653432809689548e-05\n",
            "Epoch: 470 | Loss: 4.677474407799309e-06 | Test loss: 1.3345480510906782e-05\n",
            "Epoch: 480 | Loss: 4.677474407799309e-06 | Test loss: 1.3345480510906782e-05\n",
            "Epoch: 490 | Loss: 4.677474407799309e-06 | Test loss: 1.3345480510906782e-05\n",
            "Epoch: 500 | Loss: 4.677474407799309e-06 | Test loss: 1.3345480510906782e-05\n",
            "Epoch: 510 | Loss: 9.648501873016357e-07 | Test loss: 9.89437126008852e-07\n",
            "Epoch: 520 | Loss: 2.187490508731571e-06 | Test loss: 2.4378300622629467e-06\n",
            "Epoch: 530 | Loss: 2.187490508731571e-06 | Test loss: 2.4378300622629467e-06\n",
            "Epoch: 540 | Loss: 2.187490508731571e-06 | Test loss: 2.4378300622629467e-06\n",
            "Epoch: 550 | Loss: 1.0870397773032892e-06 | Test loss: 3.3438207083236193e-06\n",
            "Epoch: 560 | Loss: 1.0870397773032892e-06 | Test loss: 3.3438207083236193e-06\n",
            "Epoch: 570 | Loss: 1.0870397773032892e-06 | Test loss: 3.3438207083236193e-06\n",
            "Epoch: 580 | Loss: 2.4586915969848633e-07 | Test loss: 1.1861324082929059e-06\n",
            "Epoch: 590 | Loss: 7.577240808132046e-07 | Test loss: 1.1861324082929059e-06\n",
            "Epoch: 600 | Loss: 7.577240808132046e-07 | Test loss: 1.1861324082929059e-06\n",
            "Epoch: 610 | Loss: 7.577240808132046e-07 | Test loss: 1.1861324082929059e-06\n",
            "Epoch: 620 | Loss: 5.26756082308566e-07 | Test loss: 2.2649764730431343e-07\n",
            "Epoch: 630 | Loss: 5.26756082308566e-07 | Test loss: 2.2649764730431343e-07\n",
            "Epoch: 640 | Loss: 5.26756082308566e-07 | Test loss: 2.2649764730431343e-07\n",
            "Epoch: 650 | Loss: 1.765787658314366e-07 | Test loss: 2.2649764730431343e-07\n",
            "Epoch: 660 | Loss: 1.765787658314366e-07 | Test loss: 2.2649764730431343e-07\n",
            "Epoch: 670 | Loss: 1.765787658314366e-07 | Test loss: 2.2649764730431343e-07\n",
            "Epoch: 680 | Loss: 1.765787658314366e-07 | Test loss: 2.2649764730431343e-07\n",
            "Epoch: 690 | Loss: 1.1548399925231934e-07 | Test loss: 8.34465012644614e-08\n",
            "Epoch: 700 | Loss: 1.1548399925231934e-07 | Test loss: 8.34465012644614e-08\n",
            "Epoch: 710 | Loss: 1.1548399925231934e-07 | Test loss: 8.34465012644614e-08\n",
            "Epoch: 720 | Loss: 1.1548399925231934e-07 | Test loss: 8.34465012644614e-08\n",
            "Epoch: 730 | Loss: 2.1606684441621837e-08 | Test loss: 5.960464477539063e-08\n",
            "Epoch: 740 | Loss: 2.1606684441621837e-08 | Test loss: 5.960464477539063e-08\n",
            "Epoch: 750 | Loss: 2.1606684441621837e-08 | Test loss: 5.960464477539063e-08\n",
            "Epoch: 760 | Loss: 2.1606684441621837e-08 | Test loss: 5.960464477539063e-08\n",
            "Epoch: 770 | Loss: 1.3411045607369942e-08 | Test loss: 5.960464477539063e-08\n",
            "Epoch: 780 | Loss: 1.3411045607369942e-08 | Test loss: 5.960464477539063e-08\n",
            "Epoch: 790 | Loss: 1.3411045607369942e-08 | Test loss: 5.960464477539063e-08\n",
            "Epoch: 800 | Loss: 1.3411045607369942e-08 | Test loss: 5.960464477539063e-08\n",
            "Epoch: 810 | Loss: 1.3411045607369942e-08 | Test loss: 5.960464477539063e-08\n",
            "Epoch: 820 | Loss: 1.3411045607369942e-08 | Test loss: 5.960464477539063e-08\n",
            "Epoch: 830 | Loss: 1.3411045607369942e-08 | Test loss: 5.960464477539063e-08\n",
            "Epoch: 840 | Loss: 1.3411045607369942e-08 | Test loss: 5.960464477539063e-08\n",
            "Epoch: 850 | Loss: 1.3411045607369942e-08 | Test loss: 5.960464477539063e-08\n",
            "Epoch: 860 | Loss: 1.3411045607369942e-08 | Test loss: 5.960464477539063e-08\n",
            "Epoch: 870 | Loss: 1.3411045607369942e-08 | Test loss: 5.960464477539063e-08\n",
            "Epoch: 880 | Loss: 1.3411045607369942e-08 | Test loss: 5.960464477539063e-08\n",
            "Epoch: 890 | Loss: 1.3411045607369942e-08 | Test loss: 5.960464477539063e-08\n",
            "Epoch: 900 | Loss: 1.3411045607369942e-08 | Test loss: 5.960464477539063e-08\n",
            "Epoch: 910 | Loss: 1.3411045607369942e-08 | Test loss: 5.960464477539063e-08\n",
            "Epoch: 920 | Loss: 1.3411045607369942e-08 | Test loss: 5.960464477539063e-08\n",
            "Epoch: 930 | Loss: 1.3411045607369942e-08 | Test loss: 5.960464477539063e-08\n",
            "Epoch: 940 | Loss: 1.3411045607369942e-08 | Test loss: 5.960464477539063e-08\n",
            "Epoch: 950 | Loss: 1.3411045607369942e-08 | Test loss: 5.960464477539063e-08\n",
            "Epoch: 960 | Loss: 1.3411045607369942e-08 | Test loss: 5.960464477539063e-08\n",
            "Epoch: 970 | Loss: 1.3411045607369942e-08 | Test loss: 5.960464477539063e-08\n",
            "Epoch: 980 | Loss: 1.3411045607369942e-08 | Test loss: 5.960464477539063e-08\n",
            "Epoch: 990 | Loss: 1.3411045607369942e-08 | Test loss: 5.960464477539063e-08\n"
          ]
        }
      ]
    },
    {
      "cell_type": "code",
      "source": [
        "model_1.state_dict()"
      ],
      "metadata": {
        "colab": {
          "base_uri": "https://localhost:8080/"
        },
        "id": "iwl4MTmKgEZv",
        "outputId": "64c05e29-01a4-4b65-9229-3beb83baf581"
      },
      "execution_count": 139,
      "outputs": [
        {
          "output_type": "execute_result",
          "data": {
            "text/plain": [
              "OrderedDict([('linear_layer.weight', tensor([[0.7000]], device='cuda:0')),\n",
              "             ('linear_layer.bias', tensor([0.3000], device='cuda:0'))])"
            ]
          },
          "metadata": {},
          "execution_count": 139
        }
      ]
    },
    {
      "cell_type": "markdown",
      "source": [
        "### 6.4 Making and evaluating predictions"
      ],
      "metadata": {
        "id": "O6V1t91LiJzj"
      }
    },
    {
      "cell_type": "code",
      "source": [
        "# Turn model into evaluation mode\n",
        "\n",
        "model_1.eval()\n",
        "\n",
        "# Make predictions on the test data\n",
        "with torch.inference_mode():\n",
        "  y_preds = model_1(X_test)"
      ],
      "metadata": {
        "id": "b6CRR9dPkMRJ"
      },
      "execution_count": 140,
      "outputs": []
    },
    {
      "cell_type": "code",
      "source": [
        "# Check out our model predictions visually\n",
        "plot_predictions(predictions=y_preds.to(\"cpu\"))"
      ],
      "metadata": {
        "colab": {
          "base_uri": "https://localhost:8080/",
          "height": 599
        },
        "id": "WyYJrJpkkYEi",
        "outputId": "25d49b36-6c23-45b0-b538-7bab36b6247e"
      },
      "execution_count": 141,
      "outputs": [
        {
          "output_type": "display_data",
          "data": {
            "text/plain": [
              "<Figure size 1000x700 with 1 Axes>"
            ],
            "image/png": "[encoded data removed]"
          },
          "metadata": {}
        }
      ]
    },
    {
      "cell_type": "markdown",
      "source": [
        "### 6.5 Saving & laoding a trained model"
      ],
      "metadata": {
        "id": "Q3UWiFu8kjlA"
      }
    },
    {
      "cell_type": "code",
      "source": [
        "from pathlib import Path\n",
        "\n",
        "# 1. Create models directory\n",
        "\n",
        "MODEL_PATH = Path(\"models\")\n",
        "MODEL_PATH.mkdir(parents=True, exist_ok=True)\n",
        "\n",
        "# 2. Create model save path\n",
        "MODEL_NAME = \"01_pytorch_workflow_model_1.pth\"\n",
        "MODEL_SAVE_PATH = MODEL_PATH / MODEL_NAME\n",
        "\n",
        "# 3. Save the model state dict\n",
        "print(f\"Saving model to -: {MODEL_SAVE_PATH}\")\n",
        "torch.save(obj=model_1.state_dict(),\n",
        "           f=MODEL_SAVE_PATH)"
      ],
      "metadata": {
        "colab": {
          "base_uri": "https://localhost:8080/"
        },
        "id": "i08wB8u48cJb",
        "outputId": "8bad6dbd-d323-48df-dd2f-661192db57fa"
      },
      "execution_count": 144,
      "outputs": [
        {
          "output_type": "stream",
          "name": "stdout",
          "text": [
            "Saving model to -: models/01_pytorch_workflow_model_1.pth\n"
          ]
        }
      ]
    },
    {
      "cell_type": "code",
      "source": [
        "model_1.state_dict()"
      ],
      "metadata": {
        "colab": {
          "base_uri": "https://localhost:8080/"
        },
        "id": "bHsZQrIM83bX",
        "outputId": "216c6772-48e8-487e-afc2-4ccb903f5423"
      },
      "execution_count": 145,
      "outputs": [
        {
          "output_type": "execute_result",
          "data": {
            "text/plain": [
              "OrderedDict([('linear_layer.weight', tensor([[0.7000]], device='cuda:0')),\n",
              "             ('linear_layer.bias', tensor([0.3000], device='cuda:0'))])"
            ]
          },
          "metadata": {},
          "execution_count": 145
        }
      ]
    },
    {
      "cell_type": "code",
      "source": [
        "# Load a PyTorch model\n",
        "\n",
        "# Create a new instance of LinearRegressionModelV2\n",
        "loaded_model_1 = LinearRegressionModelV2()\n",
        "\n",
        "# Load the saved model_1 state_dict\n",
        "loaded_model_1.load_state_dict(torch.load(MODEL_SAVE_PATH))\n",
        "\n",
        "# Put the loaded model to device\n",
        "loaded_model_1.to(device)"
      ],
      "metadata": {
        "colab": {
          "base_uri": "https://localhost:8080/"
        },
        "id": "HOV8Ujm99WpN",
        "outputId": "a9e20264-2eb9-4639-a819-4da3d4279d0e"
      },
      "execution_count": 148,
      "outputs": [
        {
          "output_type": "execute_result",
          "data": {
            "text/plain": [
              "LinearRegressionModelV2(\n",
              "  (linear_layer): Linear(in_features=1, out_features=1, bias=True)\n",
              ")"
            ]
          },
          "metadata": {},
          "execution_count": 148
        }
      ]
    },
    {
      "cell_type": "code",
      "source": [
        "next(loaded_model_1.parameters()).device"
      ],
      "metadata": {
        "colab": {
          "base_uri": "https://localhost:8080/"
        },
        "id": "OjkudSWq9-hg",
        "outputId": "cfa5d4d8-a81c-49ae-e22e-08ff4adb91ab"
      },
      "execution_count": 150,
      "outputs": [
        {
          "output_type": "execute_result",
          "data": {
            "text/plain": [
              "device(type='cuda', index=0)"
            ]
          },
          "metadata": {},
          "execution_count": 150
        }
      ]
    },
    {
      "cell_type": "code",
      "source": [
        "loaded_model_1.state_dict()"
      ],
      "metadata": {
        "colab": {
          "base_uri": "https://localhost:8080/"
        },
        "id": "9BIgkq90-Jkk",
        "outputId": "cfee94da-061b-4134-8967-0abbaeea4bb9"
      },
      "execution_count": 151,
      "outputs": [
        {
          "output_type": "execute_result",
          "data": {
            "text/plain": [
              "OrderedDict([('linear_layer.weight', tensor([[0.7000]], device='cuda:0')),\n",
              "             ('linear_layer.bias', tensor([0.3000], device='cuda:0'))])"
            ]
          },
          "metadata": {},
          "execution_count": 151
        }
      ]
    },
    {
      "cell_type": "code",
      "source": [
        "# Evaluate loaded model\n",
        "loaded_model_1.eval()\n",
        "with torch.inference_mode():\n",
        "  loaded_model_1_preds = loaded_model_1(X_test)\n",
        "y_preds == loaded_model_1_preds"
      ],
      "metadata": {
        "colab": {
          "base_uri": "https://localhost:8080/"
        },
        "id": "ChMaLeRf-Mtu",
        "outputId": "f8e73179-41ac-4538-8e0e-1aaa6f0ffdc3"
      },
      "execution_count": 156,
      "outputs": [
        {
          "output_type": "execute_result",
          "data": {
            "text/plain": [
              "tensor([[True],\n",
              "        [True],\n",
              "        [True],\n",
              "        [True],\n",
              "        [True],\n",
              "        [True],\n",
              "        [True],\n",
              "        [True],\n",
              "        [True],\n",
              "        [True]], device='cuda:0')"
            ]
          },
          "metadata": {},
          "execution_count": 156
        }
      ]
    },
    {
      "cell_type": "code",
      "source": [],
      "metadata": {
        "id": "A3Imeuc--Pd7"
      },
      "execution_count": null,
      "outputs": []
    }
  ]
}